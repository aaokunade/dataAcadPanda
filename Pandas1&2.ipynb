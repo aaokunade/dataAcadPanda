{
  "nbformat": 4,
  "nbformat_minor": 0,
  "metadata": {
    "colab": {
      "name": "Pandas1&2.ipynb",
      "provenance": [],
      "authorship_tag": "ABX9TyP615nfFg5ClnCoz33m2/S7"
    },
    "kernelspec": {
      "name": "python3",
      "display_name": "Python 3"
    },
    "language_info": {
      "name": "python"
    }
  },
  "cells": [
    {
      "cell_type": "code",
      "metadata": {
        "colab": {
          "base_uri": "https://localhost:8080/"
        },
        "id": "OwRhQQotqEM0",
        "outputId": "7f627663-e1d4-4957-8295-32e640195857"
      },
      "source": [
        "##How many rows and columns are there in your file?\n",
        "import pandas as pd\n",
        "data = pd.read_csv(\"hol_dest.csv\")\n",
        "dataHotel = data[data.columns[0:5]]\n",
        "print(dataHotel)\n",
        "# data.info()"
      ],
      "execution_count": null,
      "outputs": [
        {
          "output_type": "stream",
          "name": "stdout",
          "text": [
            "             destinations  feedback_score  ...  no_hotels  most_visited_city\n",
            "0                   China               8  ...        100          hong-kong\n",
            "1                     UAE               9  ...        111              Dubai\n",
            "2                  France               9  ...         89              Paris\n",
            "3                Thailand               7  ...         70            Bangkok\n",
            "4                 England               8  ...         79             London\n",
            "5   The RepublicSingapore               8  ...         89          Singapore\n",
            "6                Malaysia               7  ...         65       Kuala Lumpur\n",
            "7           United States               9  ...        150           New York\n",
            "8                  Turkey               8  ...        189           Istanbul\n",
            "9                   Japan               5  ...        175              Tokyo\n",
            "10           Saudi Arabia               9  ...        204             Makkah\n",
            "11                  Italy               6  ...        253              Milan\n",
            "12                  Spain               8  ...        289          Barcelona\n",
            "13              Indonesia               5  ...         59               Bali\n",
            "14            South Korea               6  ...        107              Seoul\n",
            "\n",
            "[15 rows x 5 columns]\n"
          ]
        }
      ]
    },
    {
      "cell_type": "code",
      "metadata": {
        "colab": {
          "base_uri": "https://localhost:8080/"
        },
        "id": "0YFeL1JvrphI",
        "outputId": "be9816df-15d7-4dd8-f4d4-01963c9fbb4b"
      },
      "source": [
        "##Print row 3-8 ( using iloc/loc).\n",
        "data = pd.read_csv(\"hol_dest.csv\")\n",
        "dataHotel = data[data.columns[0:5]]\n",
        "print(dataHotel.iloc[2:8])"
      ],
      "execution_count": null,
      "outputs": [
        {
          "output_type": "stream",
          "name": "stdout",
          "text": [
            "            destinations  feedback_score  ...  no_hotels  most_visited_city\n",
            "2                 France               9  ...         89              Paris\n",
            "3               Thailand               7  ...         70            Bangkok\n",
            "4                England               8  ...         79             London\n",
            "5  The RepublicSingapore               8  ...         89          Singapore\n",
            "6               Malaysia               7  ...         65       Kuala Lumpur\n",
            "7          United States               9  ...        150           New York\n",
            "\n",
            "[6 rows x 5 columns]\n"
          ]
        }
      ]
    },
    {
      "cell_type": "code",
      "metadata": {
        "colab": {
          "base_uri": "https://localhost:8080/"
        },
        "id": "BpwpMpkXs4E7",
        "outputId": "41b098ab-d931-4002-ba23-e226f797aa9a"
      },
      "source": [
        "##Find the mean number of all-inclusive hotels across all destinations.\n",
        "data = pd.read_csv(\"hol_dest.csv\")\n",
        "dataHotel = data[data.columns[0:5]]\n",
        "dataHotel[\"no_hotels\"].mean()"
      ],
      "execution_count": null,
      "outputs": [
        {
          "output_type": "execute_result",
          "data": {
            "text/plain": [
              "135.26666666666668"
            ]
          },
          "metadata": {},
          "execution_count": 17
        }
      ]
    },
    {
      "cell_type": "code",
      "metadata": {
        "colab": {
          "base_uri": "https://localhost:8080/",
          "height": 35
        },
        "id": "9bhWVpDstm4s",
        "outputId": "986ecbbc-6036-4fb3-ed0d-4df07256f488"
      },
      "source": [
        "##Find the lowest scoring destination.\n",
        "data = pd.read_csv(\"hol_dest.csv\")\n",
        "dataHotel = data[data.columns[0:5]]\n",
        "dataHotel[\"most_visited_city\"].min()"
      ],
      "execution_count": null,
      "outputs": [
        {
          "output_type": "execute_result",
          "data": {
            "application/vnd.google.colaboratory.intrinsic+json": {
              "type": "string"
            },
            "text/plain": [
              "'Bali'"
            ]
          },
          "metadata": {},
          "execution_count": 17
        }
      ]
    },
    {
      "cell_type": "code",
      "metadata": {
        "colab": {
          "base_uri": "https://localhost:8080/",
          "height": 35
        },
        "id": "IWtHgy-PuWVh",
        "outputId": "40e3c244-8bd9-458c-b089-d31a4274a3f0"
      },
      "source": [
        "##Find the highest scoring destination.\n",
        "data = pd.read_csv(\"hol_dest.csv\")\n",
        "dataHotel = data[data.columns[0:5]]\n",
        "dataHotel[\"most_visited_city\"].max()"
      ],
      "execution_count": null,
      "outputs": [
        {
          "output_type": "execute_result",
          "data": {
            "application/vnd.google.colaboratory.intrinsic+json": {
              "type": "string"
            },
            "text/plain": [
              "'hong-kong'"
            ]
          },
          "metadata": {},
          "execution_count": 18
        }
      ]
    },
    {
      "cell_type": "code",
      "metadata": {
        "colab": {
          "base_uri": "https://localhost:8080/"
        },
        "id": "MOkrRRR2uf2C",
        "outputId": "8425dd7f-63e1-454a-e41f-6723027240b6"
      },
      "source": [
        "##Find all the destinations where there are more than 9 all-inclusive hotels. \n",
        "data = pd.read_csv(\"hol_dest.csv\")\n",
        "dataHotel = data[data.columns[0:5]]\n",
        "allIclusive = dataHotel[\"no_hotels\"] > 9"
      ],
      "execution_count": null,
      "outputs": [
        {
          "output_type": "execute_result",
          "data": {
            "text/plain": [
              "0     True\n",
              "1     True\n",
              "2     True\n",
              "3     True\n",
              "4     True\n",
              "5     True\n",
              "6     True\n",
              "7     True\n",
              "8     True\n",
              "9     True\n",
              "10    True\n",
              "11    True\n",
              "12    True\n",
              "13    True\n",
              "14    True\n",
              "Name: no_hotels, dtype: bool"
            ]
          },
          "metadata": {},
          "execution_count": 6
        }
      ]
    },
    {
      "cell_type": "code",
      "metadata": {
        "colab": {
          "base_uri": "https://localhost:8080/"
        },
        "id": "JTCW3-NDvfOR",
        "outputId": "003a7ac6-525b-4f61-baab-0a569c060c67"
      },
      "source": [
        "##Filter the data by score above 8.  \n",
        "data = pd.read_csv(\"hol_dest.csv\")\n",
        "dataHotel = data[data.columns[0:5]]\n",
        "allInclusive = dataHotel[\"no_hotels\"] > 9\n",
        "filteredScore = dataHotel[allInclusive]\n",
        "filteredScore[\"feedback_score\"] > 8"
      ],
      "execution_count": null,
      "outputs": [
        {
          "output_type": "execute_result",
          "data": {
            "text/plain": [
              "0     False\n",
              "1      True\n",
              "2      True\n",
              "3     False\n",
              "4     False\n",
              "5     False\n",
              "6     False\n",
              "7      True\n",
              "8     False\n",
              "9     False\n",
              "10     True\n",
              "11    False\n",
              "12    False\n",
              "13    False\n",
              "14    False\n",
              "Name: feedback_score, dtype: bool"
            ]
          },
          "metadata": {},
          "execution_count": 12
        }
      ]
    },
    {
      "cell_type": "code",
      "metadata": {
        "colab": {
          "base_uri": "https://localhost:8080/"
        },
        "id": "qpl2TVZp0S5D",
        "outputId": "6f84febc-7f98-4fdd-9a02-6d361d055b49"
      },
      "source": [
        "##Filter the data score below 2 ( I need to know if these destinations should be removed or there is a problem)  \n",
        "data = pd.read_csv(\"hol_dest.csv\")\n",
        "dataHotel = data[data.columns[0:5]]\n",
        "allInclusive = dataHotel[\"no_hotels\"] > 9\n",
        "filteredScore = dataHotel[allInclusive]\n",
        "filteredScore[\"feedback_score\"] < 2"
      ],
      "execution_count": null,
      "outputs": [
        {
          "output_type": "execute_result",
          "data": {
            "text/plain": [
              "0     False\n",
              "1     False\n",
              "2     False\n",
              "3     False\n",
              "4     False\n",
              "5     False\n",
              "6     False\n",
              "7     False\n",
              "8     False\n",
              "9     False\n",
              "10    False\n",
              "11    False\n",
              "12    False\n",
              "13    False\n",
              "14    False\n",
              "Name: feedback_score, dtype: bool"
            ]
          },
          "metadata": {},
          "execution_count": 13
        }
      ]
    }
  ]
}